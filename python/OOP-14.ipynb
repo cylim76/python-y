{
 "cells": [
  {
   "cell_type": "code",
   "execution_count": 6,
   "metadata": {},
   "outputs": [
    {
     "name": "stdout",
     "output_type": "stream",
     "text": [
      "sec\n",
      "Noname\n",
      "Noname\n",
      "sleeping....\n"
     ]
    }
   ],
   "source": [
    "# 继承的语法\n",
    "#在Python中，任何都有一个共同的父类叫做object\n",
    "class Person(object):\n",
    "    name=\"Noname\"\n",
    "    age=18\n",
    "    __score=0\n",
    "    _petname='sec' #受保护的\n",
    "    def sleep(selp):\n",
    "        print(\"sleeping....\")\n",
    "# 父类写在括号中\n",
    "class Teacher(Person):\n",
    "    reacher_id=\"8848\"\n",
    "    def make_test(self):\n",
    "        pass\n",
    "    \n",
    "t=Teacher()\n",
    "#受保护的\n",
    "print(t._petname)\n",
    "#私有的\n",
    "#print(t.__score)\n",
    "print(t.name)\n",
    "print(Teacher.name)\n",
    "t.sleep()"
   ]
  },
  {
   "cell_type": "code",
   "execution_count": 7,
   "metadata": {},
   "outputs": [
    {
     "name": "stdout",
     "output_type": "stream",
     "text": [
      "wen\n"
     ]
    }
   ],
   "source": [
    "# 父类和子类同一变量名称，则优先使用子类名称\n",
    "class Person(object):\n",
    "    name=\"Noname\"\n",
    "    age=18\n",
    "    __score=0\n",
    "    _petname='sec' #受保护的\n",
    "    def sleep(selp):\n",
    "        print(\"sleeping....\")\n",
    "# 父类写在括号中\n",
    "class Teacher(Person):\n",
    "    name=\"wen\"\n",
    "    reacher_id=\"8848\"\n",
    "    def make_test(self):\n",
    "        pass\n",
    "t=Teacher()\n",
    "print(t.name)\n",
    "    "
   ]
  },
  {
   "cell_type": "code",
   "execution_count": 12,
   "metadata": {},
   "outputs": [
    {
     "name": "stdout",
     "output_type": "stream",
     "text": [
      "make sone money\n",
      "attention\n"
     ]
    }
   ],
   "source": [
    "# 子类扩充父类功能\n",
    "class Person(object):\n",
    "    name=\"Noname\"\n",
    "    age=18\n",
    "    __score=0\n",
    "    _petname='sec' #受保护的\n",
    "    def sleep(selp):\n",
    "        print(\"sleeping....\")\n",
    "    def work(self):\n",
    "            print(\"make sone money\")\n",
    "# 父类写在括号中\n",
    "class Teacher(Person):\n",
    "    name=\"wen\"\n",
    "    reacher_id=\"8848\"\n",
    "    def make_test(self):\n",
    "        print(\"attention\")\n",
    "    def work(self):\n",
    "#         Person.work(self)\n",
    "        #super代表父类\n",
    "        super().work()\n",
    "        self.make_test()\n",
    "t=Teacher()\n",
    "t.work()\n",
    "    "
   ]
  },
  {
   "cell_type": "code",
   "execution_count": 14,
   "metadata": {},
   "outputs": [
    {
     "name": "stdout",
     "output_type": "stream",
     "text": [
      "I an init in dog\n"
     ]
    }
   ],
   "source": [
    "# 构造函数的概念\n",
    "class Dog():\n",
    "    # __init 是够着函数\n",
    "    # 每次实例化，第一个自动调用\n",
    "    # 因为主要工作初始化，所以得名\n",
    "    \n",
    "    def __init__(self):\n",
    "\n",
    "        print(\"I an init in dog\")\n",
    "kaka=Dog()"
   ]
  },
  {
   "cell_type": "code",
   "execution_count": 16,
   "metadata": {},
   "outputs": [
    {
     "name": "stdout",
     "output_type": "stream",
     "text": [
      "I an init in dog\n"
     ]
    }
   ],
   "source": [
    "# 继承里面的构造函数\n",
    "class Animel():\n",
    "    pass\n",
    "\n",
    "class paxingAni(Animel):\n",
    "    pass\n",
    "\n",
    "class Dog(paxingAni):\n",
    "    # __init 是够着函数\n",
    "    # 每次实例化，第一个自动调用\n",
    "    # 因为主要工作初始化，所以得名\n",
    "    \n",
    "    def __init__(self):\n",
    "\n",
    "        print(\"I an init in dog\")\n",
    "# 实例化的时候，括号内的函数应与构造函数括号中的参数对象\n",
    "\n",
    "kaka =Dog()"
   ]
  },
  {
   "cell_type": "code",
   "execution_count": 20,
   "metadata": {},
   "outputs": [
    {
     "name": "stdout",
     "output_type": "stream",
     "text": [
      "I an init in dog\n",
      "Paxing Dongwu\n"
     ]
    }
   ],
   "source": [
    "# 继承里面的构造函数 --2\n",
    "class Animel():\n",
    "    pass\n",
    "\n",
    "class paxingAni(Animel):\n",
    "    def __init__(self):\n",
    "        print(\"Paxing Dongwu\")\n",
    "    pass\n",
    "\n",
    "class Dog(paxingAni):\n",
    "    # __init 是够着函数\n",
    "    # 每次实例化，第一个自动调用\n",
    "    # 因为主要工作初始化，所以得名\n",
    "    \n",
    "    def __init__(self):\n",
    "\n",
    "        print(\"I an init in dog\")\n",
    "# 实例化的时候，括号内的函数应与构造函数括号中的参数对象\n",
    "\n",
    "kaka =Dog()\n",
    "class Cat(paxingAni):\n",
    "    pass\n",
    "#此处没有构造函数，网上找，找到爬行的构造函数\n",
    "#到爬行动物为止\n",
    "mimi=Cat()"
   ]
  },
  {
   "cell_type": "code",
   "execution_count": 25,
   "metadata": {},
   "outputs": [
    {
     "name": "stdout",
     "output_type": "stream",
     "text": [
      "I an init in dog\n",
      "Paxing Dongwumimi\n"
     ]
    }
   ],
   "source": [
    "# 继承里面的构造函数 --3\n",
    "class Animel():\n",
    "    pass\n",
    "\n",
    "class paxingAni(Animel):\n",
    "    def __init__(self,name):\n",
    "        print(\"Paxing Dongwu{0}\".format(name))\n",
    "    pass\n",
    "\n",
    "class Dog(paxingAni):\n",
    "    # __init 是够着函数\n",
    "    # 每次实例化，第一个自动调用\n",
    "    # 因为主要工作初始化，所以得名\n",
    "    \n",
    "    def __init__(self):\n",
    "\n",
    "        print(\"I an init in dog\")\n",
    "#实例化狗，不报错\n",
    "d =Dog()\n",
    "class Cat(paxingAni):\n",
    "    pass\n",
    "#此时向上查找，paxing动物有两个参数\n",
    "mimi=Cat()"
   ]
  },
  {
   "cell_type": "code",
   "execution_count": 27,
   "metadata": {},
   "outputs": [
    {
     "name": "stdout",
     "output_type": "stream",
     "text": [
      "aaa\n"
     ]
    }
   ],
   "source": [
    "# 继承里面的构造函数 --3\n",
    "class Animel():\n",
    "   print(\"aaa\")\n",
    "\n",
    "class paxingAni(Animel):\n",
    "    pass\n",
    "class Dog(paxingAni):\n",
    "    pass\n",
    "#实例化狗，不报错\n",
    "d =Dog()\n",
    "class Cat(paxingAni):\n",
    "    pass\n",
    "#此时向上查找，paxing动物有两个参数\n",
    "mimi=Cat()"
   ]
  },
  {
   "cell_type": "code",
   "execution_count": null,
   "metadata": {
    "collapsed": true
   },
   "outputs": [],
   "source": []
  }
 ],
 "metadata": {
  "kernelspec": {
   "display_name": "Python 3",
   "language": "python",
   "name": "python3"
  },
  "language_info": {
   "codemirror_mode": {
    "name": "ipython",
    "version": 3
   },
   "file_extension": ".py",
   "mimetype": "text/x-python",
   "name": "python",
   "nbconvert_exporter": "python",
   "pygments_lexer": "ipython3",
   "version": "3.6.3"
  }
 },
 "nbformat": 4,
 "nbformat_minor": 2
}
