{
 "cells": [
  {
   "cell_type": "code",
   "execution_count": 4,
   "metadata": {},
   "outputs": [
    {
     "name": "stdout",
     "output_type": "stream",
     "text": [
      "dana\n"
     ]
    }
   ],
   "source": [
    "class Student():\n",
    "    name=\"dana\"\n",
    "    age=18\n",
    "Student.__dict__\n",
    "\n",
    "# 实例化\n",
    "yueyue=Student()\n",
    "yueyue.__dict__\n",
    "print(yueyue.name)"
   ]
  },
  {
   "cell_type": "code",
   "execution_count": 6,
   "metadata": {},
   "outputs": [
    {
     "name": "stdout",
     "output_type": "stream",
     "text": [
      "dama\n",
      "18\n",
      "********************\n",
      "140423908343120\n",
      "94825246560000\n",
      "********************\n",
      "dama\n",
      "18\n",
      "140423908343120\n",
      "94825246560000\n"
     ]
    }
   ],
   "source": [
    "class A():\n",
    "    name=\"dama\"\n",
    "    age=18\n",
    "    # say这里有参数，传入self\n",
    "    def say(self):\n",
    "        self.name=\"aaa\"\n",
    "        self.age=200\n",
    "# 此案例说明\n",
    "#类实例的属性和对象的实例的属性在不对对象的实例属性赋值的前提下，\n",
    "#指向同意变量\n",
    "print(A.name)\n",
    "print(A.age)\n",
    "\n",
    "print(\"*\"*20)\n",
    "print(id(A.name))\n",
    "print(id(A.age))\n",
    "\n",
    "print(\"*\"*20)\n",
    "#A的实例化\n",
    "a=A()\n",
    "print(a.name)\n",
    "print(a.age)\n",
    "print(id(a.name))\n",
    "print(id(a.age))"
   ]
  },
  {
   "cell_type": "code",
   "execution_count": 9,
   "metadata": {},
   "outputs": [
    {
     "name": "stdout",
     "output_type": "stream",
     "text": [
      "dama\n",
      "18\n",
      "********************\n",
      "140423908343120\n",
      "94825246560000\n",
      "********************\n",
      "{'__module__': '__main__', 'name': 'dama', 'age': 18, 'say': <function A.say at 0x7fb6fd32dd08>, '__dict__': <attribute '__dict__' of 'A' objects>, '__weakref__': <attribute '__weakref__' of 'A' objects>, '__doc__': None}\n",
      "{}\n",
      "{'name': 'yang', 'age': 16}\n",
      "yang\n",
      "16\n",
      "140423908462240\n",
      "94825246559936\n"
     ]
    }
   ],
   "source": [
    "print(A.name)\n",
    "print(A.age)\n",
    "\n",
    "print(\"*\"*20)\n",
    "print(id(A.name))\n",
    "print(id(A.age))\n",
    "\n",
    "print(\"*\"*20)\n",
    "#A的实例化\n",
    "a=A()\n",
    "print(A.__dict__)\n",
    "print(a.__dict__)\n",
    "a.name='yang'\n",
    "a.age=16\n",
    "print(a.__dict__)\n",
    "print(a.name)\n",
    "print(a.age)\n",
    "print(id(a.name))\n",
    "print(id(a.age))\n"
   ]
  },
  {
   "cell_type": "code",
   "execution_count": 14,
   "metadata": {},
   "outputs": [
    {
     "name": "stdout",
     "output_type": "stream",
     "text": [
      "My name is aaa\n",
      "My age is 200\n"
     ]
    }
   ],
   "source": [
    "class Student():\n",
    "    name=\"dama\"\n",
    "    age=18\n",
    "    # say这里有参数，传入self\n",
    "    def say(self):\n",
    "        self.name=\"aaa\"\n",
    "        self.age=200\n",
    "        print(\"My name is {0}\".format(self.name))\n",
    "        print(\"My age is {0}\".format(self.age))\n",
    "yueyue=Student()\n",
    "yueyue.say()"
   ]
  },
  {
   "cell_type": "code",
   "execution_count": 22,
   "metadata": {},
   "outputs": [
    {
     "name": "stdout",
     "output_type": "stream",
     "text": [
      "My name is yueyue\n",
      "My age is 18\n",
      "dama\n",
      "17\n",
      "Hello,nice to see you again\n"
     ]
    }
   ],
   "source": [
    "class Teacher():\n",
    "    name=\"dama\"\n",
    "    age=17\n",
    "    def say(self):\n",
    "        self.name=\"yueyue\"\n",
    "        self.age=18\n",
    "        print(\"My name is {0}\".format(self.name))\n",
    "        print(\"My age is {0}\".format(self.age))\n",
    "    def sayAgain():\n",
    "        print(__class__.name)\n",
    "        print(__class__.age)\n",
    "        print(\"Hello,nice to see you again\")\n",
    "t=Teacher()\n",
    "t.say()\n",
    "# 调用绑定类函数使用类明\n",
    "Teacher.sayAgain()"
   ]
  },
  {
   "cell_type": "code",
   "execution_count": 32,
   "metadata": {},
   "outputs": [
    {
     "name": "stdout",
     "output_type": "stream",
     "text": [
      "aaa\n",
      "200\n",
      "aaa\n",
      "200\n",
      "liuying\n",
      "18\n",
      "bbb\n",
      "90\n"
     ]
    }
   ],
   "source": [
    "# 关于self的案例\n",
    "\n",
    "class A():\n",
    "    name=\"liuying\"\n",
    "    age=18\n",
    "    \n",
    "    def __init__ (self):\n",
    "        self.name='aaa'\n",
    "        self.age=200\n",
    "    def say(self):\n",
    "        print(self.name)\n",
    "        print(self.age)\n",
    "    \n",
    "class B():\n",
    "    name=\"bbb\"\n",
    "    age=90\n",
    "\n",
    "a=A()\n",
    "a.say()\n",
    "# 此时，self被a替换掉\n",
    "A.say(a)\n",
    "\n",
    "#通用可以把A作为参数传入\n",
    "A.say(A)\n",
    "\n",
    "#此时，传入的类实例B，因为B具有name和age属性，所以不会报错\n",
    "A.say(B)\n",
    "# 以上代码，利用了鸭子模型"
   ]
  },
  {
   "cell_type": "code",
   "execution_count": 36,
   "metadata": {},
   "outputs": [
    {
     "name": "stdout",
     "output_type": "stream",
     "text": [
      "liudama\n"
     ]
    },
    {
     "ename": "AttributeError",
     "evalue": "'Person' object has no attribute '__age'",
     "output_type": "error",
     "traceback": [
      "\u001b[0;31m---------------------------------------------------------------------------\u001b[0m",
      "\u001b[0;31mAttributeError\u001b[0m                            Traceback (most recent call last)",
      "\u001b[0;32m<ipython-input-36-d6c091bead94>\u001b[0m in \u001b[0;36m<module>\u001b[0;34m()\u001b[0m\n\u001b[1;32m      6\u001b[0m \u001b[0mp\u001b[0m\u001b[0;34m=\u001b[0m\u001b[0mPerson\u001b[0m\u001b[0;34m(\u001b[0m\u001b[0;34m)\u001b[0m\u001b[0;34m\u001b[0m\u001b[0m\n\u001b[1;32m      7\u001b[0m \u001b[0mprint\u001b[0m\u001b[0;34m(\u001b[0m\u001b[0mp\u001b[0m\u001b[0;34m.\u001b[0m\u001b[0mname\u001b[0m\u001b[0;34m)\u001b[0m\u001b[0;34m\u001b[0m\u001b[0m\n\u001b[0;32m----> 8\u001b[0;31m \u001b[0mprint\u001b[0m\u001b[0;34m(\u001b[0m\u001b[0mp\u001b[0m\u001b[0;34m.\u001b[0m\u001b[0m__age\u001b[0m\u001b[0;34m)\u001b[0m\u001b[0;34m\u001b[0m\u001b[0m\n\u001b[0m",
      "\u001b[0;31mAttributeError\u001b[0m: 'Person' object has no attribute '__age'"
     ]
    }
   ],
   "source": [
    "# 私有变量案例\n",
    "\n",
    "class Person():\n",
    "    name=\"liudama\"\n",
    "    __age=18\n",
    "p=Person()\n",
    "print(p.name)\n",
    "#注意报错信息\n",
    "print(p.__age)"
   ]
  },
  {
   "cell_type": "code",
   "execution_count": null,
   "metadata": {
    "collapsed": true
   },
   "outputs": [],
   "source": []
  },
  {
   "cell_type": "code",
   "execution_count": null,
   "metadata": {
    "collapsed": true
   },
   "outputs": [],
   "source": []
  }
 ],
 "metadata": {
  "kernelspec": {
   "display_name": "Python 3",
   "language": "python",
   "name": "python3"
  },
  "language_info": {
   "codemirror_mode": {
    "name": "ipython",
    "version": 3
   },
   "file_extension": ".py",
   "mimetype": "text/x-python",
   "name": "python",
   "nbconvert_exporter": "python",
   "pygments_lexer": "ipython3",
   "version": "3.6.3"
  }
 },
 "nbformat": 4,
 "nbformat_minor": 2
}
